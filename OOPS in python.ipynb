{
 "cells": [
  {
   "cell_type": "markdown",
   "metadata": {},
   "source": [
    "# OOPS In python"
   ]
  },
  {
   "cell_type": "markdown",
   "metadata": {},
   "source": [
    "### self :\n",
    "- Class methods must have an extra first parameter in method definition.\n",
    "-  We do not give a value for this parameter when we call the method, Python provides it\n",
    "- if we have a method which takes no arguments, then we still have to have one argument – the self\n",
    "- same as... this pointer in C++ and this reference in Java.\n",
    "- this is automatically converted by Python into MyClass.method(myobject, arg1, arg2)"
   ]
  },
  {
   "cell_type": "code",
   "execution_count": 1,
   "metadata": {},
   "outputs": [
    {
     "name": "stdout",
     "output_type": "stream",
     "text": [
      "hello\n"
     ]
    }
   ],
   "source": [
    "class Test:\n",
    "#     method create\n",
    "    def fun(self):\n",
    "        print('hello')\n",
    "    \n",
    "# object/instance create \n",
    "obj = Test()\n",
    "obj.fun()\n"
   ]
  },
  {
   "cell_type": "markdown",
   "metadata": {},
   "source": [
    "### The __init__ method\n",
    "it is similar to constructors in C++ and Java. \n",
    "It is run as soon as an object of a class is instantiated. \n",
    "The method is useful to do any initialization you want to do with your object."
   ]
  },
  {
   "cell_type": "markdown",
   "metadata": {},
   "source": [
    "### Instantiation\n",
    "Instantiating a class is creating a copy of the class which inherits all class variables and methods.\n",
    "Instantiating a class in Python is simple. To instantiate a class, we simply call the class as if it were a function,\n",
    "passing the arguments that the __init__ method defines."
   ]
  },
  {
   "cell_type": "code",
   "execution_count": 6,
   "metadata": {},
   "outputs": [
    {
     "name": "stdout",
     "output_type": "stream",
     "text": [
      "Enter your name: kc\n",
      "hello kc\n"
     ]
    }
   ],
   "source": [
    "class Person:\n",
    "    # init method or constructor  \n",
    "    def __init__(self,name):\n",
    "        self.name=name\n",
    "    def say(self):\n",
    "        print('hello',self.name)\n",
    "p=Person(input('Enter your name: '))\n",
    "p.say()"
   ]
  },
  {
   "cell_type": "markdown",
   "metadata": {},
   "source": [
    "### Instance Variables\n",
    "they are variables whose value is assigned inside a constructor or method with self.\n",
    "we can create instance variables inside methods"
   ]
  },
  {
   "cell_type": "markdown",
   "metadata": {},
   "source": [
    "### class variables\n",
    "Class variables are variables whose value is assigned in class."
   ]
  },
  {
   "cell_type": "code",
   "execution_count": 11,
   "metadata": {},
   "outputs": [
    {
     "name": "stdout",
     "output_type": "stream",
     "text": [
      "Enter your name: k\n",
      "hello k\n",
      "Class variable :  kamini\n",
      "instance variable :  22\n"
     ]
    }
   ],
   "source": [
    "# Example\n",
    "class Person:\n",
    "#     class variable\n",
    "    names='kamini'\n",
    "    \n",
    "# init method or constructor  \n",
    "    def __init__(self,name):\n",
    "#         instance variable\n",
    "        self.name=name\n",
    "    \n",
    "    def say(self):\n",
    "#         instance variable inside method\n",
    "        self.age='22'\n",
    "        print('hello',self.name)\n",
    "        \n",
    "p=Person(input('Enter your name: '))\n",
    "p.say()\n",
    "print('Class variable : ',p.names)\n",
    "print('instance variable : ',p.age)"
   ]
  },
  {
   "cell_type": "markdown",
   "metadata": {},
   "source": [
    "### Pass statement\n",
    "- to create an empty class\n",
    "\n",
    "class Test:\n",
    "    - pass"
   ]
  },
  {
   "cell_type": "markdown",
   "metadata": {},
   "source": [
    "### Data hiding\n",
    " In Python, we use double underscore (Or __) before the attributes name and those attributes will not be directly visible outside."
   ]
  },
  {
   "cell_type": "code",
   "execution_count": 14,
   "metadata": {},
   "outputs": [
    {
     "name": "stdout",
     "output_type": "stream",
     "text": [
      "I am in add method 2\n"
     ]
    },
    {
     "ename": "AttributeError",
     "evalue": "'MyClass' object has no attribute '__hiddenVariable'",
     "output_type": "error",
     "traceback": [
      "\u001b[1;31m---------------------------------------------------------------------------\u001b[0m",
      "\u001b[1;31mAttributeError\u001b[0m                            Traceback (most recent call last)",
      "\u001b[1;32m<ipython-input-14-17b4fd1a9b38>\u001b[0m in \u001b[0;36m<module>\u001b[1;34m\u001b[0m\n\u001b[0;32m     13\u001b[0m \u001b[1;33m\u001b[0m\u001b[0m\n\u001b[0;32m     14\u001b[0m \u001b[1;31m# This line will cause error beacuse we are trying to access hidden data\u001b[0m\u001b[1;33m\u001b[0m\u001b[1;33m\u001b[0m\u001b[1;33m\u001b[0m\u001b[0m\n\u001b[1;32m---> 15\u001b[1;33m \u001b[0mprint\u001b[0m \u001b[1;33m(\u001b[0m\u001b[0mmyObject\u001b[0m\u001b[1;33m.\u001b[0m\u001b[0m__hiddenVariable\u001b[0m\u001b[1;33m)\u001b[0m\u001b[1;33m\u001b[0m\u001b[1;33m\u001b[0m\u001b[0m\n\u001b[0m",
      "\u001b[1;31mAttributeError\u001b[0m: 'MyClass' object has no attribute '__hiddenVariable'"
     ]
    }
   ],
   "source": [
    "class MyClass: \n",
    "    # Hidden member of MyClass \n",
    "    __hiddenVariable = 0\n",
    "    \n",
    "    # A member method that changes __hiddenVariable  \n",
    "    def add(self, increment): \n",
    "        self.__hiddenVariable += increment \n",
    "        print('I am in add method',self.__hiddenVariable) \n",
    "\n",
    "# Driver code \n",
    "myObject = MyClass()      \n",
    "myObject.add(2) \n",
    "\n",
    "# This line will cause error beacuse we are trying to access hidden data\n",
    "print (myObject.__hiddenVariable) "
   ]
  },
  {
   "cell_type": "markdown",
   "metadata": {},
   "source": [
    "### if i have to access my hidden variable, i have to use "
   ]
  },
  {
   "cell_type": "code",
   "execution_count": 22,
   "metadata": {},
   "outputs": [
    {
     "name": "stdout",
     "output_type": "stream",
     "text": [
      "10\n"
     ]
    }
   ],
   "source": [
    "class MyClass: \n",
    "    # Hidden member of MyClass \n",
    "    __hiddenVariable = 10\n",
    "    \n",
    "myObject = MyClass()      \n",
    "print(myObject._MyClass__hiddenVariable)"
   ]
  },
  {
   "cell_type": "markdown",
   "metadata": {},
   "source": [
    "## Printing Objects...  __repr__ & __str__\n",
    "\n",
    "- Printing objects gives us information about objects we are working with. \n",
    "- In C++, we can do this by adding a friend ostream& operator << (ostream&, const Foobar&) method for the class.\n",
    "- In Java, we use toString() method. \n",
    "- In python this can be achieved by using __repr__ or __str__ methods.\n",
    "- repr() returns a string that holds a printable representation of an object."
   ]
  },
  {
   "cell_type": "code",
   "execution_count": 28,
   "metadata": {},
   "outputs": [
    {
     "name": "stdout",
     "output_type": "stream",
     "text": [
      "Calling Str : From str method of Test: a is 1234, b is 5678\n",
      "Calling repr : [Test a:1234 b:5678]\n"
     ]
    }
   ],
   "source": [
    "class Test:\n",
    "    def __init__(self,a,b):\n",
    "        self.a=a\n",
    "        self.b=b\n",
    "        \n",
    "    def __repr__(self):\n",
    "        print('in repr')\n",
    "        return self.a,self.b\n",
    "\n",
    "    def __str__(self):\n",
    "        print('in str')\n",
    "        return self.a,self.b\n",
    "T=Test\n",
    "print('Calling Str :',t)\n",
    "print('Calling repr :', [t])"
   ]
  },
  {
   "cell_type": "code",
   "execution_count": 31,
   "metadata": {},
   "outputs": [
    {
     "name": "stdout",
     "output_type": "stream",
     "text": [
      "'hello!'\n",
      "hello!\n"
     ]
    }
   ],
   "source": [
    "# prints with a pair of quotes\n",
    "# we get more precise value than str() function.\n",
    "s='hello!'\n",
    "print(repr(s))\n",
    "print(str(s))"
   ]
  },
  {
   "cell_type": "code",
   "execution_count": 33,
   "metadata": {},
   "outputs": [
    {
     "name": "stdout",
     "output_type": "stream",
     "text": [
      "2020-04-14 02:52:39.206146\n",
      "datetime.datetime(2020, 4, 14, 2, 52, 39, 206146)\n"
     ]
    }
   ],
   "source": [
    "import datetime \n",
    "today = datetime.datetime.now() \n",
    "\n",
    "# Prints readable format for date-time object \n",
    "print(str(today))  \n",
    "# prints the official format of date-time object \n",
    "print(repr(today))"
   ]
  },
  {
   "cell_type": "markdown",
   "metadata": {},
   "source": [
    "### Access Modifiers\n",
    "- there are three forms of access modifiers, which are Public, Protected and Private in a class.\n",
    "- uses ‘_’ symbol \n",
    "- it have an important role to play in securing data from unauthorized access and in preventing it from being exploited."
   ]
  },
  {
   "cell_type": "code",
   "execution_count": 52,
   "metadata": {},
   "outputs": [
    {
     "name": "stdout",
     "output_type": "stream",
     "text": [
      "Kamini\n",
      "\n"
     ]
    }
   ],
   "source": [
    "class Test:\n",
    "    publicname='Kamini'\n",
    "    _protectedname = None\n",
    "    __privatename = None\n",
    "\n",
    "t=Test()\n",
    "# accessing public data member \n",
    "print(t.publicname)\n",
    "\n",
    "# accessing protected data member \n",
    "# print(t.protectedname)\n",
    "\n",
    "# accessing private data member \n",
    "# print(t.privatename)\n",
    "\n",
    "print()"
   ]
  },
  {
   "cell_type": "markdown",
   "metadata": {},
   "source": [
    "## Accessing Attributes and Methods in Python\n",
    "- getattr() – This function is used to access the attribute of object.\n",
    "- hasattr() – This function is used to check if an attribute exist or not.\n",
    "- setattr() – This function is used to set an attribute. If the attribute does not exist, then it would be created.\n",
    "- delattr() – This function is used to delete an attribute. If you are accessing the attribute after deleting it raises error “class has no attribute”."
   ]
  },
  {
   "cell_type": "code",
   "execution_count": 54,
   "metadata": {},
   "outputs": [
    {
     "name": "stdout",
     "output_type": "stream",
     "text": [
      "Harsh\n",
      "True\n",
      "152\n"
     ]
    }
   ],
   "source": [
    "class emp:\n",
    "    name='Harsh'\n",
    "    salary='25000'\n",
    "    def show(self): \n",
    "        print(self.name) \n",
    "        print(self.salary) \n",
    "e1 = emp() \n",
    "# Use getattr instead of e1.name \n",
    "print(getattr(e1,'name')) \n",
    "  \n",
    "# returns true if object has attribute \n",
    "print(hasattr(e1,'name')) \n",
    "  \n",
    "# sets an  attribute  \n",
    "setattr(e1,'height',152) \n",
    "  \n",
    "# returns the value of attribute name height \n",
    "print(getattr(e1,'height')) \n",
    "  \n",
    "# delete the attribute \n",
    "delattr(emp,'salary') "
   ]
  },
  {
   "cell_type": "code",
   "execution_count": 34,
   "metadata": {},
   "outputs": [
    {
     "name": "stdout",
     "output_type": "stream",
     "text": [
      "7\n"
     ]
    }
   ],
   "source": [
    "class change:\n",
    "     def __init__(self, x, y, z):\n",
    "        self.a = x + y + z\n",
    "x = change(1,2,3)\n",
    "y = getattr(x, 'a')\n",
    "setattr(x, 'a', y+1)\n",
    "print(x.a)"
   ]
  },
  {
   "cell_type": "markdown",
   "metadata": {},
   "source": [
    "## class method & static method in Python"
   ]
  },
  {
   "cell_type": "markdown",
   "metadata": {},
   "source": [
    "## class method\n",
    "- it is bound to the class and not the object of the class.\n",
    "- They have the access to the state of the class and not the object instance.\n",
    "- It can modify a class state that would apply across all the instances of the class. For example it can modify a class variable that will be applicable to all the instances."
   ]
  },
  {
   "cell_type": "markdown",
   "metadata": {},
   "source": [
    "### static method\n",
    "- it is also a method which is bound to the class and not the object of the class.\n",
    "- can’t access or modify class state.\n",
    "- It is present in a class because it makes sense for the method to be present in class."
   ]
  },
  {
   "cell_type": "code",
   "execution_count": null,
   "metadata": {},
   "outputs": [],
   "source": [
    "To define a class method in python, we use @classmethod decorator and to define a static method we use @staticmethod decorator. "
   ]
  }
 ],
 "metadata": {
  "kernelspec": {
   "display_name": "Python 3",
   "language": "python",
   "name": "python3"
  },
  "language_info": {
   "codemirror_mode": {
    "name": "ipython",
    "version": 3
   },
   "file_extension": ".py",
   "mimetype": "text/x-python",
   "name": "python",
   "nbconvert_exporter": "python",
   "pygments_lexer": "ipython3",
   "version": "3.7.6"
  }
 },
 "nbformat": 4,
 "nbformat_minor": 4
}
